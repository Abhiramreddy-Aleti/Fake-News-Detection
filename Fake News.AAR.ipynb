{
 "cells": [
  {
   "cell_type": "markdown",
   "id": "0a1a362b",
   "metadata": {},
   "source": [
    "### Introduction\n",
    " Fake news has become one of the most serious problems of our generation. It has a huge impact on our online and offline conversations. Fake news still poses a clear and timely threat to western democracy and social stability. Social media is a huge pool of content and is the most watched part of all the content available to users. Politicians, television stations, newspaper websites, and even the public can post this information. The credibility of these posts is a serious problem in today's world, as many companies are taking steps to educate the public about the dangers of spreading false information. Need to be verified. Manual classification of messages is tedious, time consuming, and biased, so it is not possible to clearly determine the level of reliability of messages posted online."
   ]
  },
  {
   "cell_type": "markdown",
   "id": "b23a38d8",
   "metadata": {},
   "source": [
    "### Steps for Project Implementation\n",
    "* Data Preparation and Mining\n",
    "* Exploratory Data Analysis\n",
    "* Feature Engineering\n",
    "* Modelling and Prediction\n",
    "* Result\n",
    "* Out of Sample Prediction"
   ]
  },
  {
   "cell_type": "code",
   "execution_count": 111,
   "id": "ecca5b76",
   "metadata": {},
   "outputs": [],
   "source": [
    "#importing basic libraries\n",
    "import pandas as pd\n",
    "import numpy as np\n",
    "import matplotlib.pyplot as plt\n",
    "import seaborn as sb"
   ]
  },
  {
   "cell_type": "code",
   "execution_count": 112,
   "id": "0a76f917",
   "metadata": {},
   "outputs": [],
   "source": [
    "df = pd.read_csv(r\"C:\\Users\\aleti\\Downloads\\satwik\\news_articles.csv\")"
   ]
  },
  {
   "cell_type": "code",
   "execution_count": 113,
   "id": "cf12a096",
   "metadata": {},
   "outputs": [
    {
     "data": {
      "text/html": [
       "<div>\n",
       "<style scoped>\n",
       "    .dataframe tbody tr th:only-of-type {\n",
       "        vertical-align: middle;\n",
       "    }\n",
       "\n",
       "    .dataframe tbody tr th {\n",
       "        vertical-align: top;\n",
       "    }\n",
       "\n",
       "    .dataframe thead th {\n",
       "        text-align: right;\n",
       "    }\n",
       "</style>\n",
       "<table border=\"1\" class=\"dataframe\">\n",
       "  <thead>\n",
       "    <tr style=\"text-align: right;\">\n",
       "      <th></th>\n",
       "      <th>author</th>\n",
       "      <th>published</th>\n",
       "      <th>title</th>\n",
       "      <th>text</th>\n",
       "      <th>language</th>\n",
       "      <th>site_url</th>\n",
       "      <th>main_img_url</th>\n",
       "      <th>type</th>\n",
       "      <th>label</th>\n",
       "      <th>title_without_stopwords</th>\n",
       "      <th>text_without_stopwords</th>\n",
       "      <th>hasImage</th>\n",
       "    </tr>\n",
       "  </thead>\n",
       "  <tbody>\n",
       "    <tr>\n",
       "      <th>2092</th>\n",
       "      <td>-NO AUTHOR-</td>\n",
       "      <td>2016-10-27T15:36:10.573+03:00</td>\n",
       "      <td>teens walk free after gangrape conviction</td>\n",
       "      <td>NaN</td>\n",
       "      <td>english</td>\n",
       "      <td>wnd.com</td>\n",
       "      <td>http://www.wnd.com/files/2016/10/hillary_haunt...</td>\n",
       "      <td>bias</td>\n",
       "      <td>Real</td>\n",
       "      <td>good samaritan wearing indian headdress disarm...</td>\n",
       "      <td>NaN</td>\n",
       "      <td>1.0</td>\n",
       "    </tr>\n",
       "    <tr>\n",
       "      <th>2093</th>\n",
       "      <td>-NO AUTHOR-</td>\n",
       "      <td>2016-10-27T15:36:10.671+03:00</td>\n",
       "      <td>school named for munichmassacre mastermind</td>\n",
       "      <td>NaN</td>\n",
       "      <td>english</td>\n",
       "      <td>wnd.com</td>\n",
       "      <td>http://www.wnd.com/files/2016/10/rambo_richard...</td>\n",
       "      <td>bias</td>\n",
       "      <td>Real</td>\n",
       "      <td>skype sex scam fortune built shame</td>\n",
       "      <td>NaN</td>\n",
       "      <td>1.0</td>\n",
       "    </tr>\n",
       "    <tr>\n",
       "      <th>2094</th>\n",
       "      <td>-NO AUTHOR-</td>\n",
       "      <td>2016-10-27T13:30:00.000+03:00</td>\n",
       "      <td>russia unveils satan  missile</td>\n",
       "      <td>NaN</td>\n",
       "      <td>english</td>\n",
       "      <td>wnd.com</td>\n",
       "      <td>http://www.wnd.com/files/2016/10/skype_sex_sca...</td>\n",
       "      <td>bs</td>\n",
       "      <td>Fake</td>\n",
       "      <td>cannabis aficionados develop thca crystalline ...</td>\n",
       "      <td>NaN</td>\n",
       "      <td>1.0</td>\n",
       "    </tr>\n",
       "    <tr>\n",
       "      <th>2095</th>\n",
       "      <td>-NO AUTHOR-</td>\n",
       "      <td>2016-10-27T15:58:41.935+03:00</td>\n",
       "      <td>check out hillarythemed haunted house</td>\n",
       "      <td>NaN</td>\n",
       "      <td>english</td>\n",
       "      <td>wnd.com</td>\n",
       "      <td>http://worldtruth.tv/wp-content/uploads/2016/1...</td>\n",
       "      <td>bs</td>\n",
       "      <td>Fake</td>\n",
       "      <td>title</td>\n",
       "      <td>NaN</td>\n",
       "      <td>0.0</td>\n",
       "    </tr>\n",
       "    <tr>\n",
       "      <th>2096</th>\n",
       "      <td>Eddy Lavine</td>\n",
       "      <td>2016-10-28T01:02:00.000+03:00</td>\n",
       "      <td>cannabis aficionados develop thca crystalline ...</td>\n",
       "      <td>NaN</td>\n",
       "      <td>NaN</td>\n",
       "      <td>NaN</td>\n",
       "      <td>NaN</td>\n",
       "      <td>NaN</td>\n",
       "      <td>NaN</td>\n",
       "      <td>NaN</td>\n",
       "      <td>NaN</td>\n",
       "      <td>NaN</td>\n",
       "    </tr>\n",
       "  </tbody>\n",
       "</table>\n",
       "</div>"
      ],
      "text/plain": [
       "           author                      published  \\\n",
       "2092  -NO AUTHOR-  2016-10-27T15:36:10.573+03:00   \n",
       "2093  -NO AUTHOR-  2016-10-27T15:36:10.671+03:00   \n",
       "2094  -NO AUTHOR-  2016-10-27T13:30:00.000+03:00   \n",
       "2095  -NO AUTHOR-  2016-10-27T15:58:41.935+03:00   \n",
       "2096  Eddy Lavine  2016-10-28T01:02:00.000+03:00   \n",
       "\n",
       "                                                  title text language  \\\n",
       "2092          teens walk free after gangrape conviction  NaN  english   \n",
       "2093         school named for munichmassacre mastermind  NaN  english   \n",
       "2094                      russia unveils satan  missile  NaN  english   \n",
       "2095              check out hillarythemed haunted house  NaN  english   \n",
       "2096  cannabis aficionados develop thca crystalline ...  NaN      NaN   \n",
       "\n",
       "     site_url                                       main_img_url  type label  \\\n",
       "2092  wnd.com  http://www.wnd.com/files/2016/10/hillary_haunt...  bias  Real   \n",
       "2093  wnd.com  http://www.wnd.com/files/2016/10/rambo_richard...  bias  Real   \n",
       "2094  wnd.com  http://www.wnd.com/files/2016/10/skype_sex_sca...    bs  Fake   \n",
       "2095  wnd.com  http://worldtruth.tv/wp-content/uploads/2016/1...    bs  Fake   \n",
       "2096      NaN                                                NaN   NaN   NaN   \n",
       "\n",
       "                                title_without_stopwords  \\\n",
       "2092  good samaritan wearing indian headdress disarm...   \n",
       "2093                 skype sex scam fortune built shame   \n",
       "2094  cannabis aficionados develop thca crystalline ...   \n",
       "2095                                              title   \n",
       "2096                                                NaN   \n",
       "\n",
       "     text_without_stopwords  hasImage  \n",
       "2092                    NaN       1.0  \n",
       "2093                    NaN       1.0  \n",
       "2094                    NaN       1.0  \n",
       "2095                    NaN       0.0  \n",
       "2096                    NaN       NaN  "
      ]
     },
     "execution_count": 113,
     "metadata": {},
     "output_type": "execute_result"
    }
   ],
   "source": [
    "#get a peek into the data\n",
    "df.tail(5)"
   ]
  },
  {
   "cell_type": "markdown",
   "id": "c118beae",
   "metadata": {},
   "source": [
    "##  \n",
    "We can see a lot of Nan and null values here.\n",
    "## "
   ]
  },
  {
   "cell_type": "code",
   "execution_count": 34,
   "id": "2221bfa0",
   "metadata": {},
   "outputs": [
    {
     "data": {
      "text/html": [
       "<div>\n",
       "<style scoped>\n",
       "    .dataframe tbody tr th:only-of-type {\n",
       "        vertical-align: middle;\n",
       "    }\n",
       "\n",
       "    .dataframe tbody tr th {\n",
       "        vertical-align: top;\n",
       "    }\n",
       "\n",
       "    .dataframe thead th {\n",
       "        text-align: right;\n",
       "    }\n",
       "</style>\n",
       "<table border=\"1\" class=\"dataframe\">\n",
       "  <thead>\n",
       "    <tr style=\"text-align: right;\">\n",
       "      <th></th>\n",
       "      <th>hasImage</th>\n",
       "    </tr>\n",
       "  </thead>\n",
       "  <tbody>\n",
       "    <tr>\n",
       "      <th>count</th>\n",
       "      <td>2094.000000</td>\n",
       "    </tr>\n",
       "    <tr>\n",
       "      <th>mean</th>\n",
       "      <td>0.776982</td>\n",
       "    </tr>\n",
       "    <tr>\n",
       "      <th>std</th>\n",
       "      <td>0.416370</td>\n",
       "    </tr>\n",
       "    <tr>\n",
       "      <th>min</th>\n",
       "      <td>0.000000</td>\n",
       "    </tr>\n",
       "    <tr>\n",
       "      <th>25%</th>\n",
       "      <td>1.000000</td>\n",
       "    </tr>\n",
       "    <tr>\n",
       "      <th>50%</th>\n",
       "      <td>1.000000</td>\n",
       "    </tr>\n",
       "    <tr>\n",
       "      <th>75%</th>\n",
       "      <td>1.000000</td>\n",
       "    </tr>\n",
       "    <tr>\n",
       "      <th>max</th>\n",
       "      <td>1.000000</td>\n",
       "    </tr>\n",
       "  </tbody>\n",
       "</table>\n",
       "</div>"
      ],
      "text/plain": [
       "          hasImage\n",
       "count  2094.000000\n",
       "mean      0.776982\n",
       "std       0.416370\n",
       "min       0.000000\n",
       "25%       1.000000\n",
       "50%       1.000000\n",
       "75%       1.000000\n",
       "max       1.000000"
      ]
     },
     "execution_count": 34,
     "metadata": {},
     "output_type": "execute_result"
    }
   ],
   "source": [
    "df.describe()"
   ]
  },
  {
   "cell_type": "code",
   "execution_count": 35,
   "id": "d47c857d",
   "metadata": {},
   "outputs": [
    {
     "name": "stdout",
     "output_type": "stream",
     "text": [
      "<class 'pandas.core.frame.DataFrame'>\n",
      "RangeIndex: 2097 entries, 0 to 2096\n",
      "Data columns (total 12 columns):\n",
      " #   Column                   Non-Null Count  Dtype  \n",
      "---  ------                   --------------  -----  \n",
      " 0   author                   2096 non-null   object \n",
      " 1   published                2097 non-null   object \n",
      " 2   title                    2097 non-null   object \n",
      " 3   text                     2051 non-null   object \n",
      " 4   language                 2095 non-null   object \n",
      " 5   site_url                 2095 non-null   object \n",
      " 6   main_img_url             2095 non-null   object \n",
      " 7   type                     2095 non-null   object \n",
      " 8   label                    2095 non-null   object \n",
      " 9   title_without_stopwords  2093 non-null   object \n",
      " 10  text_without_stopwords   2045 non-null   object \n",
      " 11  hasImage                 2094 non-null   float64\n",
      "dtypes: float64(1), object(11)\n",
      "memory usage: 196.7+ KB\n"
     ]
    }
   ],
   "source": [
    "df.info()"
   ]
  },
  {
   "cell_type": "code",
   "execution_count": 36,
   "id": "38da2fae",
   "metadata": {},
   "outputs": [
    {
     "data": {
      "text/plain": [
       "(2097, 12)"
      ]
     },
     "execution_count": 36,
     "metadata": {},
     "output_type": "execute_result"
    }
   ],
   "source": [
    "df.shape\n",
    "#initial size of the dataset"
   ]
  },
  {
   "cell_type": "markdown",
   "id": "c0a1f849",
   "metadata": {},
   "source": [
    "### Data Preperation and Mining"
   ]
  },
  {
   "cell_type": "code",
   "execution_count": 37,
   "id": "6fd5307c",
   "metadata": {},
   "outputs": [
    {
     "data": {
      "text/plain": [
       "author                      1\n",
       "published                   0\n",
       "title                       0\n",
       "text                       46\n",
       "language                    2\n",
       "site_url                    2\n",
       "main_img_url                2\n",
       "type                        2\n",
       "label                       2\n",
       "title_without_stopwords     4\n",
       "text_without_stopwords     52\n",
       "hasImage                    3\n",
       "dtype: int64"
      ]
     },
     "execution_count": 37,
     "metadata": {},
     "output_type": "execute_result"
    }
   ],
   "source": [
    "#check for null values\n",
    "df.isnull().sum()"
   ]
  },
  {
   "cell_type": "code",
   "execution_count": 40,
   "id": "006a8989",
   "metadata": {},
   "outputs": [],
   "source": [
    "#drop the null values\n",
    "df.dropna(inplace=True)"
   ]
  },
  {
   "cell_type": "code",
   "execution_count": 41,
   "id": "f706c770",
   "metadata": {},
   "outputs": [],
   "source": [
    "#Date Time split to see if any trend\n",
    "timesplit = df['published'].str.split('T', 1, expand=True)\n",
    "df['Time']=timesplit[1]\n",
    "df['Date']=timesplit[0]"
   ]
  },
  {
   "cell_type": "code",
   "execution_count": 42,
   "id": "1b804b10",
   "metadata": {},
   "outputs": [],
   "source": [
    "#Split the Month and Day Data\n",
    "#Since all our data in from 2016, we might be able to see a trend if any, through the months\n",
    "datesplit = df['Date'].str.split('-',n=-1, expand=True)\n",
    "df['Year']=datesplit[0]\n",
    "df['Month']=datesplit[1]\n",
    "df['Day']=datesplit[2]"
   ]
  },
  {
   "cell_type": "code",
   "execution_count": 43,
   "id": "7335905d",
   "metadata": {},
   "outputs": [],
   "source": [
    "#drop some error producing rows\n",
    "df.loc[df.Month == 'content/uploads/2014/04/jucundus']\n",
    "df.drop(848, inplace=True)\n",
    "df.loc[df.Month == 'content/uploads/2015/07/Earth']\n",
    "df.drop(1838, inplace=True)"
   ]
  },
  {
   "cell_type": "code",
   "execution_count": 44,
   "id": "a3941ff2",
   "metadata": {
    "scrolled": true
   },
   "outputs": [],
   "source": [
    "#Change the type for ease of plotting\n",
    "df = df.astype({\"Month\": float, \"Day\":float})"
   ]
  },
  {
   "cell_type": "code",
   "execution_count": 45,
   "id": "a51f23f1",
   "metadata": {},
   "outputs": [
    {
     "data": {
      "text/html": [
       "<div>\n",
       "<style scoped>\n",
       "    .dataframe tbody tr th:only-of-type {\n",
       "        vertical-align: middle;\n",
       "    }\n",
       "\n",
       "    .dataframe tbody tr th {\n",
       "        vertical-align: top;\n",
       "    }\n",
       "\n",
       "    .dataframe thead th {\n",
       "        text-align: right;\n",
       "    }\n",
       "</style>\n",
       "<table border=\"1\" class=\"dataframe\">\n",
       "  <thead>\n",
       "    <tr style=\"text-align: right;\">\n",
       "      <th></th>\n",
       "      <th>author</th>\n",
       "      <th>published</th>\n",
       "      <th>title</th>\n",
       "      <th>text</th>\n",
       "      <th>language</th>\n",
       "      <th>site_url</th>\n",
       "      <th>main_img_url</th>\n",
       "      <th>type</th>\n",
       "      <th>label</th>\n",
       "      <th>title_without_stopwords</th>\n",
       "      <th>text_without_stopwords</th>\n",
       "      <th>hasImage</th>\n",
       "      <th>Time</th>\n",
       "      <th>Date</th>\n",
       "      <th>Year</th>\n",
       "      <th>Month</th>\n",
       "      <th>Day</th>\n",
       "    </tr>\n",
       "  </thead>\n",
       "  <tbody>\n",
       "    <tr>\n",
       "      <th>2042</th>\n",
       "      <td>Matt Barber</td>\n",
       "      <td>2016-10-27T03:04:50.327+03:00</td>\n",
       "      <td>why never trumpers must reconsider</td>\n",
       "      <td>prof canoes reek of genocide white privilege c...</td>\n",
       "      <td>english</td>\n",
       "      <td>wnd.com</td>\n",
       "      <td>No Image URL</td>\n",
       "      <td>bias</td>\n",
       "      <td>Real</td>\n",
       "      <td>trump vs clinton risk vs disaster</td>\n",
       "      <td>check hillarythemed haunted house anticlinton ...</td>\n",
       "      <td>0.0</td>\n",
       "      <td>03:04:50.327+03:00</td>\n",
       "      <td>2016-10-27</td>\n",
       "      <td>2016</td>\n",
       "      <td>10.0</td>\n",
       "      <td>27.0</td>\n",
       "    </tr>\n",
       "    <tr>\n",
       "      <th>2043</th>\n",
       "      <td>Jane Chastain</td>\n",
       "      <td>2016-10-27T03:04:50.704+03:00</td>\n",
       "      <td>election crossroads socialism or capitalism</td>\n",
       "      <td>teens walk free after gangrape conviction judg...</td>\n",
       "      <td>english</td>\n",
       "      <td>wnd.com</td>\n",
       "      <td>No Image URL</td>\n",
       "      <td>bias</td>\n",
       "      <td>Real</td>\n",
       "      <td>gingrich slutshames megyn kelly</td>\n",
       "      <td>good samaritan wearing indian headdress disarm...</td>\n",
       "      <td>1.0</td>\n",
       "      <td>03:04:50.704+03:00</td>\n",
       "      <td>2016-10-27</td>\n",
       "      <td>2016</td>\n",
       "      <td>10.0</td>\n",
       "      <td>27.0</td>\n",
       "    </tr>\n",
       "    <tr>\n",
       "      <th>2044</th>\n",
       "      <td>Michael Brown</td>\n",
       "      <td>2016-10-27T03:04:54.788+03:00</td>\n",
       "      <td>reasons ill vote for trump</td>\n",
       "      <td>school named for munichmassacre mastermind ter...</td>\n",
       "      <td>english</td>\n",
       "      <td>wnd.com</td>\n",
       "      <td>http://mobile.wnd.com/files/2011/12/leftfield3...</td>\n",
       "      <td>bias</td>\n",
       "      <td>Real</td>\n",
       "      <td>youtube bans clintons black son</td>\n",
       "      <td>skype sex scam fortune built shame moroccan bo...</td>\n",
       "      <td>1.0</td>\n",
       "      <td>03:04:54.788+03:00</td>\n",
       "      <td>2016-10-27</td>\n",
       "      <td>2016</td>\n",
       "      <td>10.0</td>\n",
       "      <td>27.0</td>\n",
       "    </tr>\n",
       "    <tr>\n",
       "      <th>2045</th>\n",
       "      <td>Ann Coulter</td>\n",
       "      <td>2016-10-27T03:05:01.989+03:00</td>\n",
       "      <td>our new country women and minorities hit hardest</td>\n",
       "      <td>wars and rumors of wars russia unveils satan  ...</td>\n",
       "      <td>english</td>\n",
       "      <td>wnd.com</td>\n",
       "      <td>http://www.wnd.com/files/2016/10/danney-willll...</td>\n",
       "      <td>bias</td>\n",
       "      <td>Real</td>\n",
       "      <td>wikileaks bombshells hillary need know</td>\n",
       "      <td>posted eddie skyhigh potency may scare away cr...</td>\n",
       "      <td>1.0</td>\n",
       "      <td>03:05:01.989+03:00</td>\n",
       "      <td>2016-10-27</td>\n",
       "      <td>2016</td>\n",
       "      <td>10.0</td>\n",
       "      <td>27.0</td>\n",
       "    </tr>\n",
       "    <tr>\n",
       "      <th>2046</th>\n",
       "      <td>Larry Elder</td>\n",
       "      <td>2016-10-27T03:05:05.815+03:00</td>\n",
       "      <td>trump vs clinton a risk vs a disaster</td>\n",
       "      <td>check out hillarythemed haunted house anticlin...</td>\n",
       "      <td>english</td>\n",
       "      <td>wnd.com</td>\n",
       "      <td>http://www.wnd.com/files/2015/10/Hillary-Clint...</td>\n",
       "      <td>bias</td>\n",
       "      <td>Real</td>\n",
       "      <td>fascinated sex</td>\n",
       "      <td>billion even known keeping supposedly deleted ...</td>\n",
       "      <td>0.0</td>\n",
       "      <td>03:05:05.815+03:00</td>\n",
       "      <td>2016-10-27</td>\n",
       "      <td>2016</td>\n",
       "      <td>10.0</td>\n",
       "      <td>27.0</td>\n",
       "    </tr>\n",
       "  </tbody>\n",
       "</table>\n",
       "</div>"
      ],
      "text/plain": [
       "             author                      published  \\\n",
       "2042    Matt Barber  2016-10-27T03:04:50.327+03:00   \n",
       "2043  Jane Chastain  2016-10-27T03:04:50.704+03:00   \n",
       "2044  Michael Brown  2016-10-27T03:04:54.788+03:00   \n",
       "2045    Ann Coulter  2016-10-27T03:05:01.989+03:00   \n",
       "2046    Larry Elder  2016-10-27T03:05:05.815+03:00   \n",
       "\n",
       "                                                 title  \\\n",
       "2042                why never trumpers must reconsider   \n",
       "2043       election crossroads socialism or capitalism   \n",
       "2044                        reasons ill vote for trump   \n",
       "2045  our new country women and minorities hit hardest   \n",
       "2046             trump vs clinton a risk vs a disaster   \n",
       "\n",
       "                                                   text language site_url  \\\n",
       "2042  prof canoes reek of genocide white privilege c...  english  wnd.com   \n",
       "2043  teens walk free after gangrape conviction judg...  english  wnd.com   \n",
       "2044  school named for munichmassacre mastermind ter...  english  wnd.com   \n",
       "2045  wars and rumors of wars russia unveils satan  ...  english  wnd.com   \n",
       "2046  check out hillarythemed haunted house anticlin...  english  wnd.com   \n",
       "\n",
       "                                           main_img_url  type label  \\\n",
       "2042                                       No Image URL  bias  Real   \n",
       "2043                                       No Image URL  bias  Real   \n",
       "2044  http://mobile.wnd.com/files/2011/12/leftfield3...  bias  Real   \n",
       "2045  http://www.wnd.com/files/2016/10/danney-willll...  bias  Real   \n",
       "2046  http://www.wnd.com/files/2015/10/Hillary-Clint...  bias  Real   \n",
       "\n",
       "                     title_without_stopwords  \\\n",
       "2042       trump vs clinton risk vs disaster   \n",
       "2043         gingrich slutshames megyn kelly   \n",
       "2044         youtube bans clintons black son   \n",
       "2045  wikileaks bombshells hillary need know   \n",
       "2046                          fascinated sex   \n",
       "\n",
       "                                 text_without_stopwords  hasImage  \\\n",
       "2042  check hillarythemed haunted house anticlinton ...       0.0   \n",
       "2043  good samaritan wearing indian headdress disarm...       1.0   \n",
       "2044  skype sex scam fortune built shame moroccan bo...       1.0   \n",
       "2045  posted eddie skyhigh potency may scare away cr...       1.0   \n",
       "2046  billion even known keeping supposedly deleted ...       0.0   \n",
       "\n",
       "                    Time        Date  Year  Month   Day  \n",
       "2042  03:04:50.327+03:00  2016-10-27  2016   10.0  27.0  \n",
       "2043  03:04:50.704+03:00  2016-10-27  2016   10.0  27.0  \n",
       "2044  03:04:54.788+03:00  2016-10-27  2016   10.0  27.0  \n",
       "2045  03:05:01.989+03:00  2016-10-27  2016   10.0  27.0  \n",
       "2046  03:05:05.815+03:00  2016-10-27  2016   10.0  27.0  "
      ]
     },
     "execution_count": 45,
     "metadata": {},
     "output_type": "execute_result"
    }
   ],
   "source": [
    "df.tail(5)\n",
    "#cleaner and transformed data"
   ]
  },
  {
   "cell_type": "code",
   "execution_count": 46,
   "id": "7d654f66",
   "metadata": {},
   "outputs": [],
   "source": [
    "#Labelize the label column\n",
    "#Create Dummies to represent Real and Fake by 1 and 0\n",
    "dum_type=pd.get_dummies(df.label,drop_first=True,prefix=\"\")\n",
    "df=df.join(dum_type)\n",
    "df.drop('label', axis=1, inplace=True)\n",
    "df.rename(columns={'_Real':'Real'}, inplace=True)"
   ]
  },
  {
   "cell_type": "markdown",
   "id": "acd4da29",
   "metadata": {},
   "source": [
    "### Exploratory data analysis (EDA)"
   ]
  },
  {
   "cell_type": "code",
   "execution_count": 47,
   "id": "2d1a5879",
   "metadata": {},
   "outputs": [
    {
     "data": {
      "text/plain": [
       "Text(0.5, 1.0, 'Count of Real and Fake Data')"
      ]
     },
     "execution_count": 47,
     "metadata": {},
     "output_type": "execute_result"
    },
    {
     "data": {
      "image/png": "[encoded data removed]",
      "text/plain": [
       "<Figure size 720x720 with 1 Axes>"
      ]
     },
     "metadata": {},
     "output_type": "display_data"
    }
   ],
   "source": [
    "#plot to see Counts of Real and Fake data\n",
    "sb.set_theme(style=\"whitegrid\")\n",
    "ax = sb.countplot(x=\"Real\", data=df, palette='Set3')\n",
    "ax.set_title(\"Count of Real and Fake Data\")"
   ]
  },
  {
   "cell_type": "code",
   "execution_count": 48,
   "id": "3c7ee89d",
   "metadata": {},
   "outputs": [
    {
     "data": {
      "text/plain": [
       "Text(0.5, 1.0, 'Count of Languages of the news')"
      ]
     },
     "execution_count": 48,
     "metadata": {},
     "output_type": "execute_result"
    },
    {
     "data": {
      "image/png": "[encoded data removed]",
      "text/plain": [
       "<Figure size 720x720 with 1 Axes>"
      ]
     },
     "metadata": {},
     "output_type": "display_data"
    }
   ],
   "source": [
    "#plot to see Counts of Language data\n",
    "sb.set_theme(style=\"whitegrid\")\n",
    "ax = sb.countplot(x=\"language\", data=df, palette='Set3')\n",
    "ax.set_title(\"Count of Languages of the news\")"
   ]
  },
  {
   "cell_type": "code",
   "execution_count": 49,
   "id": "f3590fa1",
   "metadata": {},
   "outputs": [
    {
     "data": {
      "text/plain": [
       "Text(0.5, 1.0, 'Count of Type of the news')"
      ]
     },
     "execution_count": 49,
     "metadata": {},
     "output_type": "execute_result"
    },
    {
     "data": {
      "image/png": "[encoded data removed]",
      "text/plain": [
       "<Figure size 720x720 with 1 Axes>"
      ]
     },
     "metadata": {},
     "output_type": "display_data"
    }
   ],
   "source": [
    "#plot to see Counts of type of news data\n",
    "sb.set_theme(style=\"whitegrid\")\n",
    "ax = sb.countplot(x=\"type\", data=df, palette='Set3')\n",
    "ax.set_title(\"Count of Type of the news\")"
   ]
  },
  {
   "cell_type": "code",
   "execution_count": 50,
   "id": "ff061b2f",
   "metadata": {},
   "outputs": [
    {
     "data": {
      "text/plain": [
       "Text(0.5, 1.0, 'Count of news with Images')"
      ]
     },
     "execution_count": 50,
     "metadata": {},
     "output_type": "execute_result"
    },
    {
     "data": {
      "image/png": "[encoded data removed]",
      "text/plain": [
       "<Figure size 720x720 with 1 Axes>"
      ]
     },
     "metadata": {},
     "output_type": "display_data"
    }
   ],
   "source": [
    "#plot to see Counts news data that have images or no\n",
    "sb.set_theme(style=\"whitegrid\")\n",
    "ax = sb.countplot(x=\"hasImage\", data=df, palette='Set3')\n",
    "ax.set_title(\"Count of news with Images\")"
   ]
  },
  {
   "cell_type": "code",
   "execution_count": 51,
   "id": "1ef22065",
   "metadata": {
    "scrolled": true
   },
   "outputs": [
    {
     "data": {
      "text/plain": [
       "Text(0.5, 1.0, 'Top 10 Authors with count of news')"
      ]
     },
     "execution_count": 51,
     "metadata": {},
     "output_type": "execute_result"
    },
    {
     "data": {
      "image/png": "[encoded data removed]",
      "text/plain": [
       "<Figure size 720x720 with 1 Axes>"
      ]
     },
     "metadata": {},
     "output_type": "display_data"
    }
   ],
   "source": [
    "#plot to see top 10 Authors with most news articles\n",
    "sb.set_theme(style=\"whitegrid\")\n",
    "ax = sb.countplot(y=\"author\", data=df, palette='Set3', order =df.author.value_counts().iloc[:10].index)\n",
    "ax.set_title(\"Top 10 Authors with count of news\")"
   ]
  },
  {
   "cell_type": "code",
   "execution_count": 52,
   "id": "2ce44d5d",
   "metadata": {},
   "outputs": [
    {
     "data": {
      "text/plain": [
       "Text(0.5, 1.0, 'Top 10 Site URLS with count of news')"
      ]
     },
     "execution_count": 52,
     "metadata": {},
     "output_type": "execute_result"
    },
    {
     "data": {
      "image/png": "[encoded data removed]",
      "text/plain": [
       "<Figure size 720x720 with 1 Axes>"
      ]
     },
     "metadata": {},
     "output_type": "display_data"
    }
   ],
   "source": [
    "#plot to see top 10 Authors with most news urls\n",
    "sb.set_theme(style=\"whitegrid\")\n",
    "ax = sb.countplot(y=\"site_url\", data=df, palette='Set3', order =df.site_url.value_counts().iloc[:10].index)\n",
    "ax.set_title(\"Top 10 Site URLS with count of news\")"
   ]
  },
  {
   "cell_type": "code",
   "execution_count": 53,
   "id": "654ff5fa",
   "metadata": {},
   "outputs": [
    {
     "data": {
      "text/plain": [
       "Text(0.5, 1.0, 'Months of published news')"
      ]
     },
     "execution_count": 53,
     "metadata": {},
     "output_type": "execute_result"
    },
    {
     "data": {
      "image/png": "[encoded data removed]",
      "text/plain": [
       "<Figure size 720x720 with 1 Axes>"
      ]
     },
     "metadata": {},
     "output_type": "display_data"
    }
   ],
   "source": [
    "#plot to see Months of pblished news\n",
    "sb.set_theme(style=\"whitegrid\")\n",
    "ax = sb.countplot(x=\"Month\", data=df, palette='Set3')\n",
    "ax.set_title(\"Months of published news\")"
   ]
  },
  {
   "cell_type": "code",
   "execution_count": 54,
   "id": "6ddd7e98",
   "metadata": {},
   "outputs": [
    {
     "data": {
      "text/plain": [
       "Text(0.5, 1.0, 'Days of published news')"
      ]
     },
     "execution_count": 54,
     "metadata": {},
     "output_type": "execute_result"
    },
    {
     "data": {
      "image/png": "[encoded data removed]",
      "text/plain": [
       "<Figure size 720x720 with 1 Axes>"
      ]
     },
     "metadata": {},
     "output_type": "display_data"
    }
   ],
   "source": [
    "#plot to see Days of pblished news\n",
    "sb.set_theme(style=\"whitegrid\")\n",
    "ax = sb.countplot(x=\"Day\", data=df, palette='Set3')\n",
    "sb.set(rc = {'figure.figsize':(10,10)})\n",
    "ax.set_title(\"Days of published news\")"
   ]
  },
  {
   "cell_type": "markdown",
   "id": "e58ad0d6",
   "metadata": {},
   "source": [
    "### Findings from the EDA\n",
    "\n",
    "1) There is no bias in the dataset because we have real and fake data <br>\n",
    "2) Most of the news articles are in English so we will be using NLP and other techniques with English language in mind <br>\n",
    "3) The type of news data is varied and that is good for classification. Also bs stands for Bullshit, all the articles with no type are classified into bs. <br>\n",
    "4) Most of the news articles have an Image. <br>\n",
    "5) Some of the most recurring site address and author names have been retrieved. We can use the occurance of the same sites to our advantage. <br>\n",
    "6) We have a lot of articles towards the end of the month. <br>\n",
    "\n",
    "The features that we can use for our model are author, title, text_without_stopwords and site urls. We have to explore these features in detail."
   ]
  },
  {
   "cell_type": "code",
   "execution_count": 55,
   "id": "3bc35478",
   "metadata": {},
   "outputs": [
    {
     "data": {
      "text/plain": [
       "No Author                              329\n",
       "Activist Post                           82\n",
       "noreply@blogger.com (Der Postillon)     72\n",
       "Anonymous                               58\n",
       "admin                                   48\n",
       "Alex Ansary                             44\n",
       "Henry Wolff                             33\n",
       "Corbett                                 27\n",
       "tokyowashi (noreply@blogger.com)        20\n",
       "Steve Watson                            16\n",
       "Name: author, dtype: int64"
      ]
     },
     "execution_count": 55,
     "metadata": {},
     "output_type": "execute_result"
    }
   ],
   "source": [
    "#Fake Authors\n",
    "df.loc[df.Real == 0].author.value_counts().head(10) "
   ]
  },
  {
   "cell_type": "code",
   "execution_count": 56,
   "id": "5935b9d4",
   "metadata": {},
   "outputs": [
    {
     "data": {
      "text/plain": [
       "activistpost.com      100\n",
       "infowars.com          100\n",
       "awdnews.com           100\n",
       "naturalnews.com       100\n",
       "clickhole.com         100\n",
       "prisonplanet.com       99\n",
       "abeldanger.net         82\n",
       "der-postillon.com      72\n",
       "ahtribune.com          67\n",
       "abovetopsecret.com     53\n",
       "Name: site_url, dtype: int64"
      ]
     },
     "execution_count": 56,
     "metadata": {},
     "output_type": "execute_result"
    }
   ],
   "source": [
    "#Fake URL sites\n",
    "df.loc[df.Real == 0].site_url.value_counts().head(10)\n"
   ]
  },
  {
   "cell_type": "code",
   "execution_count": 57,
   "id": "4838d885",
   "metadata": {},
   "outputs": [
    {
     "data": {
      "text/plain": [
       "No Author               176\n",
       "EdJenner                 73\n",
       "Daniel Greenfield        53\n",
       "Jason Easley             45\n",
       "Dr. Patrick Slattery     35\n",
       "-NO AUTHOR-              22\n",
       "Sarah Jones              16\n",
       "Roosh Valizadeh          15\n",
       "Hrafnkell Haraldsson     15\n",
       "Fed Up                   12\n",
       "Name: author, dtype: int64"
      ]
     },
     "execution_count": 57,
     "metadata": {},
     "output_type": "execute_result"
    }
   ],
   "source": [
    "#Real Authors\n",
    "df.loc[df.Real == 1].author.value_counts().head(10)"
   ]
  },
  {
   "cell_type": "code",
   "execution_count": 58,
   "id": "6f80e3dd",
   "metadata": {},
   "outputs": [
    {
     "data": {
      "text/plain": [
       "politicususa.com         100\n",
       "presstv.ir                99\n",
       "returnofkings.com         99\n",
       "frontpagemag.com          99\n",
       "westernjournalism.com     98\n",
       "dailywire.com             81\n",
       "wnd.com                   51\n",
       "davidduke.com             41\n",
       "100percentfedup.com       33\n",
       "presstv.com               21\n",
       "Name: site_url, dtype: int64"
      ]
     },
     "execution_count": 58,
     "metadata": {},
     "output_type": "execute_result"
    }
   ],
   "source": [
    "#Real URL sites\n",
    "df.loc[df.Real == 1].site_url.value_counts().head(10)"
   ]
  },
  {
   "cell_type": "code",
   "execution_count": 59,
   "id": "3869edc7",
   "metadata": {},
   "outputs": [
    {
     "name": "stdout",
     "output_type": "stream",
     "text": [
      "{'westernjournalism.com', 'prisonplanet.com', 'frontpagemag.com', 'fromthetrenchesworldreport.com', 'returnofkings.com', 'washingtonsblog.com', 'davidduke.com', 'newstarget.com', 'presstv.ir'}\n"
     ]
    }
   ],
   "source": [
    "real = set(df[df['Real'] == 1]['site_url'].unique())\n",
    "fake = set(df[df['Real'] == 0]['site_url'].unique())\n",
    "print(f\"{real & fake}\")"
   ]
  },
  {
   "cell_type": "markdown",
   "id": "768f29da",
   "metadata": {},
   "source": [
    "Here we can see that the Authors and Sites for real and fake news are clearly different. Meaning the same source is not producing real and fake news. There are some sites that produce both news but mostly they produce 1 type and some news articles can be of the other type. So with the main text, site urls and author names might also help in the prediction.\n",
    "\n",
    "### Feature Engineering"
   ]
  },
  {
   "cell_type": "code",
   "execution_count": 60,
   "id": "e137bc04",
   "metadata": {},
   "outputs": [],
   "source": [
    "#target is our column to be predicted and features are the columns that we will use for modelling\n",
    "target = df.Real\n",
    "features = df[['author','site_url','text_without_stopwords']]"
   ]
  },
  {
   "cell_type": "code",
   "execution_count": 61,
   "id": "0426b7b7",
   "metadata": {},
   "outputs": [
    {
     "data": {
      "text/html": [
       "<div>\n",
       "<style scoped>\n",
       "    .dataframe tbody tr th:only-of-type {\n",
       "        vertical-align: middle;\n",
       "    }\n",
       "\n",
       "    .dataframe tbody tr th {\n",
       "        vertical-align: top;\n",
       "    }\n",
       "\n",
       "    .dataframe thead th {\n",
       "        text-align: right;\n",
       "    }\n",
       "</style>\n",
       "<table border=\"1\" class=\"dataframe\">\n",
       "  <thead>\n",
       "    <tr style=\"text-align: right;\">\n",
       "      <th></th>\n",
       "      <th>author</th>\n",
       "      <th>site_url</th>\n",
       "      <th>text_without_stopwords</th>\n",
       "    </tr>\n",
       "  </thead>\n",
       "  <tbody>\n",
       "    <tr>\n",
       "      <th>0</th>\n",
       "      <td>Barracuda Brigade</td>\n",
       "      <td>100percentfedup.com</td>\n",
       "      <td>print pay back money plus interest entire fami...</td>\n",
       "    </tr>\n",
       "    <tr>\n",
       "      <th>1</th>\n",
       "      <td>reasoning with facts</td>\n",
       "      <td>100percentfedup.com</td>\n",
       "      <td>attorney general loretta lynch plead fifth bar...</td>\n",
       "    </tr>\n",
       "    <tr>\n",
       "      <th>2</th>\n",
       "      <td>Barracuda Brigade</td>\n",
       "      <td>100percentfedup.com</td>\n",
       "      <td>red state fox news sunday reported morning ant...</td>\n",
       "    </tr>\n",
       "    <tr>\n",
       "      <th>3</th>\n",
       "      <td>Fed Up</td>\n",
       "      <td>100percentfedup.com</td>\n",
       "      <td>email kayla mueller prisoner tortured isis cha...</td>\n",
       "    </tr>\n",
       "    <tr>\n",
       "      <th>4</th>\n",
       "      <td>Fed Up</td>\n",
       "      <td>100percentfedup.com</td>\n",
       "      <td>email healthcare reform make america great sin...</td>\n",
       "    </tr>\n",
       "    <tr>\n",
       "      <th>...</th>\n",
       "      <td>...</td>\n",
       "      <td>...</td>\n",
       "      <td>...</td>\n",
       "    </tr>\n",
       "    <tr>\n",
       "      <th>2042</th>\n",
       "      <td>Matt Barber</td>\n",
       "      <td>wnd.com</td>\n",
       "      <td>check hillarythemed haunted house anticlinton ...</td>\n",
       "    </tr>\n",
       "    <tr>\n",
       "      <th>2043</th>\n",
       "      <td>Jane Chastain</td>\n",
       "      <td>wnd.com</td>\n",
       "      <td>good samaritan wearing indian headdress disarm...</td>\n",
       "    </tr>\n",
       "    <tr>\n",
       "      <th>2044</th>\n",
       "      <td>Michael Brown</td>\n",
       "      <td>wnd.com</td>\n",
       "      <td>skype sex scam fortune built shame moroccan bo...</td>\n",
       "    </tr>\n",
       "    <tr>\n",
       "      <th>2045</th>\n",
       "      <td>Ann Coulter</td>\n",
       "      <td>wnd.com</td>\n",
       "      <td>posted eddie skyhigh potency may scare away cr...</td>\n",
       "    </tr>\n",
       "    <tr>\n",
       "      <th>2046</th>\n",
       "      <td>Larry Elder</td>\n",
       "      <td>wnd.com</td>\n",
       "      <td>billion even known keeping supposedly deleted ...</td>\n",
       "    </tr>\n",
       "  </tbody>\n",
       "</table>\n",
       "<p>2040 rows × 3 columns</p>\n",
       "</div>"
      ],
      "text/plain": [
       "                    author             site_url  \\\n",
       "0        Barracuda Brigade  100percentfedup.com   \n",
       "1     reasoning with facts  100percentfedup.com   \n",
       "2        Barracuda Brigade  100percentfedup.com   \n",
       "3                   Fed Up  100percentfedup.com   \n",
       "4                   Fed Up  100percentfedup.com   \n",
       "...                    ...                  ...   \n",
       "2042           Matt Barber              wnd.com   \n",
       "2043         Jane Chastain              wnd.com   \n",
       "2044         Michael Brown              wnd.com   \n",
       "2045           Ann Coulter              wnd.com   \n",
       "2046           Larry Elder              wnd.com   \n",
       "\n",
       "                                 text_without_stopwords  \n",
       "0     print pay back money plus interest entire fami...  \n",
       "1     attorney general loretta lynch plead fifth bar...  \n",
       "2     red state fox news sunday reported morning ant...  \n",
       "3     email kayla mueller prisoner tortured isis cha...  \n",
       "4     email healthcare reform make america great sin...  \n",
       "...                                                 ...  \n",
       "2042  check hillarythemed haunted house anticlinton ...  \n",
       "2043  good samaritan wearing indian headdress disarm...  \n",
       "2044  skype sex scam fortune built shame moroccan bo...  \n",
       "2045  posted eddie skyhigh potency may scare away cr...  \n",
       "2046  billion even known keeping supposedly deleted ...  \n",
       "\n",
       "[2040 rows x 3 columns]"
      ]
     },
     "execution_count": 61,
     "metadata": {},
     "output_type": "execute_result"
    }
   ],
   "source": [
    "features"
   ]
  },
  {
   "cell_type": "code",
   "execution_count": 62,
   "id": "efa77325",
   "metadata": {},
   "outputs": [
    {
     "name": "stderr",
     "output_type": "stream",
     "text": [
      "C:\\Users\\aleti\\AppData\\Local\\Temp\\ipykernel_16420\\366889726.py:3: SettingWithCopyWarning: \n",
      "A value is trying to be set on a copy of a slice from a DataFrame.\n",
      "Try using .loc[row_indexer,col_indexer] = value instead\n",
      "\n",
      "See the caveats in the documentation: https://pandas.pydata.org/pandas-docs/stable/user_guide/indexing.html#returning-a-view-versus-a-copy\n",
      "  features['combined_url_text'] = features[\"author\"]+\" \"+features[\"site_url\"] + \" \" + features[\"text_without_stopwords\"]\n",
      "C:\\Users\\aleti\\AppData\\Local\\Temp\\ipykernel_16420\\366889726.py:4: SettingWithCopyWarning: \n",
      "A value is trying to be set on a copy of a slice from a DataFrame\n",
      "\n",
      "See the caveats in the documentation: https://pandas.pydata.org/pandas-docs/stable/user_guide/indexing.html#returning-a-view-versus-a-copy\n",
      "  features.drop(['author','site_url', 'text_without_stopwords'], axis = 1, inplace = True)\n"
     ]
    }
   ],
   "source": [
    "#since all the feature columns are text data, we want to use text mining technique.\n",
    "# we put all of them in the same column for ease of processing\n",
    "features['combined_url_text'] = features[\"author\"]+\" \"+features[\"site_url\"] + \" \" + features[\"text_without_stopwords\"]\n",
    "features.drop(['author','site_url', 'text_without_stopwords'], axis = 1, inplace = True)\n",
    "features=features.combined_url_text"
   ]
  },
  {
   "cell_type": "code",
   "execution_count": 63,
   "id": "ea3fcfc9",
   "metadata": {},
   "outputs": [
    {
     "data": {
      "text/plain": [
       "0       Barracuda Brigade 100percentfedup.com print pa...\n",
       "1       reasoning with facts 100percentfedup.com attor...\n",
       "2       Barracuda Brigade 100percentfedup.com red stat...\n",
       "3       Fed Up 100percentfedup.com email kayla mueller...\n",
       "4       Fed Up 100percentfedup.com email healthcare re...\n",
       "                              ...                        \n",
       "2042    Matt Barber wnd.com check hillarythemed haunte...\n",
       "2043    Jane Chastain wnd.com good samaritan wearing i...\n",
       "2044    Michael Brown wnd.com skype sex scam fortune b...\n",
       "2045    Ann Coulter wnd.com posted eddie skyhigh poten...\n",
       "2046    Larry Elder wnd.com billion even known keeping...\n",
       "Name: combined_url_text, Length: 2040, dtype: object"
      ]
     },
     "execution_count": 63,
     "metadata": {},
     "output_type": "execute_result"
    }
   ],
   "source": [
    "features"
   ]
  },
  {
   "cell_type": "markdown",
   "id": "e07f8a47",
   "metadata": {},
   "source": [
    "We want to explore the test data. We want to see which words and topics are commom to the fake and real data. We want to see words that are completely unique to the fake and real data.<br>\n",
    "\n",
    "\n",
    "### TFIDF Vectorizer\n",
    "Term Frequency: This summarizes how often a given word appears within a document. Inverse Document Frequency: This downscales words that appear a lot across documents. TF-IDF are word frequency scores that try to highlight words that are more interesting."
   ]
  },
  {
   "cell_type": "code",
   "execution_count": 64,
   "id": "c7ee4872",
   "metadata": {},
   "outputs": [],
   "source": [
    "from sklearn.feature_extraction.text import TfidfVectorizer\n",
    "vectorizer_words = TfidfVectorizer(stop_words='english')\n",
    "X = vectorizer_words.fit_transform(features)"
   ]
  },
  {
   "cell_type": "code",
   "execution_count": 65,
   "id": "8c8b7b6c",
   "metadata": {},
   "outputs": [
    {
     "name": "stdout",
     "output_type": "stream",
     "text": [
      "Initialization complete\n",
      "Iteration 0, inertia 3932.3563520610023\n",
      "Iteration 1, inertia 1989.0532487444366\n",
      "Iteration 2, inertia 1984.3289332695604\n",
      "Iteration 3, inertia 1982.993103322983\n",
      "Iteration 4, inertia 1982.5768857936398\n",
      "Iteration 5, inertia 1981.7284051861166\n",
      "Iteration 6, inertia 1980.6675982566553\n",
      "Iteration 7, inertia 1980.626443290827\n",
      "Iteration 8, inertia 1980.6138880614676\n",
      "Iteration 9, inertia 1980.601711843312\n",
      "Iteration 10, inertia 1980.5993106459348\n",
      "Iteration 11, inertia 1980.597033521295\n",
      "Converged at iteration 11: strict convergence.\n"
     ]
    },
    {
     "data": {
      "text/plain": [
       "KMeans(max_iter=100, n_clusters=2, n_init=1, verbose=True)"
      ]
     },
     "execution_count": 65,
     "metadata": {},
     "output_type": "execute_result"
    }
   ],
   "source": [
    "#trying to cluster the 2 data centres ie fake and real news\n",
    "from sklearn.cluster import KMeans\n",
    "km = KMeans(n_clusters = 2, init = 'k-means++', max_iter = 100, n_init = 1, verbose = True)\n",
    "km.fit(X)"
   ]
  },
  {
   "cell_type": "code",
   "execution_count": 66,
   "id": "99d83959",
   "metadata": {},
   "outputs": [],
   "source": [
    "import numpy as np\n",
    "np.unique(km.labels_, return_counts=True)\n",
    "features.reset_index(drop=True, inplace=True)"
   ]
  },
  {
   "cell_type": "code",
   "execution_count": 67,
   "id": "dc95ac50",
   "metadata": {},
   "outputs": [],
   "source": [
    "#Here we are collecting all the fake data into one cluster and all the real data into another.\n",
    "#We are doing this as a pre step to the coming logic.\n",
    "text={}\n",
    "for i,cluster in enumerate(km.labels_):\n",
    "    oneDocument = features[i]\n",
    "    if cluster not in text.keys():\n",
    "        text[cluster] = oneDocument\n",
    "    else:\n",
    "        text[cluster] += oneDocument"
   ]
  },
  {
   "cell_type": "code",
   "execution_count": 108,
   "id": "adc094e4",
   "metadata": {},
   "outputs": [
    {
     "name": "stderr",
     "output_type": "stream",
     "text": [
      "[nltk_data] Downloading package punkt to\n",
      "[nltk_data]     C:\\Users\\aleti\\AppData\\Roaming\\nltk_data...\n",
      "[nltk_data]   Package punkt is already up-to-date!\n"
     ]
    },
    {
     "data": {
      "text/plain": [
       "True"
      ]
     },
     "execution_count": 108,
     "metadata": {},
     "output_type": "execute_result"
    }
   ],
   "source": [
    "#importing NLTK libraries for NLP techiniques\n",
    "from nltk.tokenize import word_tokenize\n",
    "from nltk.corpus import stopwords\n",
    "from nltk.probability import FreqDist\n",
    "from string import punctuation\n",
    "from heapq import nlargest\n",
    "import nltk \n",
    "nltk.download('punkt')"
   ]
  },
  {
   "cell_type": "code",
   "execution_count": 109,
   "id": "ec4f5274",
   "metadata": {},
   "outputs": [],
   "source": [
    "#here we are finding the keywords that appear in both the clusters and we do not want to include the stop words as those will be the most frequent\n",
    "_stopwords = set(stopwords.words('english') + list(punctuation))\n",
    "\n",
    "keywords = {}\n",
    "counts={}\n",
    "for cluster in range(2):\n",
    "    word_sent = word_tokenize(text[cluster].lower())\n",
    "    word_sent=[word for word in word_sent if word not in _stopwords]\n",
    "    freq = FreqDist(word_sent)\n",
    "    keywords[cluster] = nlargest(100, freq, key=freq.get)\n",
    "    counts[cluster]=freq"
   ]
  },
  {
   "cell_type": "code",
   "execution_count": 97,
   "id": "232701ce",
   "metadata": {},
   "outputs": [
    {
     "data": {
      "text/plain": [
       "{0: ['one',\n",
       "  'people',\n",
       "  'us',\n",
       "  'said',\n",
       "  'would',\n",
       "  'also',\n",
       "  'like',\n",
       "  'time',\n",
       "  'even',\n",
       "  'new',\n",
       "  'get',\n",
       "  'world',\n",
       "  'many',\n",
       "  'could',\n",
       "  'dont',\n",
       "  'years',\n",
       "  'first',\n",
       "  'government',\n",
       "  'state',\n",
       "  'two',\n",
       "  'women',\n",
       "  'police',\n",
       "  'make',\n",
       "  'way',\n",
       "  'well',\n",
       "  'see',\n",
       "  'der',\n",
       "  'media',\n",
       "  'know',\n",
       "  'states',\n",
       "  'right',\n",
       "  'author',\n",
       "  'may',\n",
       "  'take',\n",
       "  'american',\n",
       "  'life',\n",
       "  'day',\n",
       "  'back',\n",
       "  'men',\n",
       "  'man',\n",
       "  'good',\n",
       "  'every',\n",
       "  'much',\n",
       "  'want',\n",
       "  'since',\n",
       "  'news',\n",
       "  'made',\n",
       "  'go',\n",
       "  'think',\n",
       "  'food',\n",
       "  'say',\n",
       "  'president',\n",
       "  'another',\n",
       "  'die',\n",
       "  'october',\n",
       "  'war',\n",
       "  'still',\n",
       "  'public',\n",
       "  'going',\n",
       "  'trump',\n",
       "  'work',\n",
       "  'year',\n",
       "  'according',\n",
       "  'last',\n",
       "  'need',\n",
       "  'never',\n",
       "  'white',\n",
       "  'political',\n",
       "  'health',\n",
       "  'around',\n",
       "  'human',\n",
       "  'united',\n",
       "  'law',\n",
       "  'used',\n",
       "  'use',\n",
       "  'country',\n",
       "  'part',\n",
       "  'im',\n",
       "  'power',\n",
       "  'system',\n",
       "  'obama',\n",
       "  'without',\n",
       "  'water',\n",
       "  'city',\n",
       "  'times',\n",
       "  'today',\n",
       "  'military',\n",
       "  'really',\n",
       "  'things',\n",
       "  'must',\n",
       "  'help',\n",
       "  'might',\n",
       "  'israel',\n",
       "  'group',\n",
       "  'long',\n",
       "  'de',\n",
       "  'free',\n",
       "  'case',\n",
       "  'fact',\n",
       "  'come'],\n",
       " 1: ['trump',\n",
       "  'clinton',\n",
       "  'hillary',\n",
       "  'election',\n",
       "  'would',\n",
       "  'said',\n",
       "  'campaign',\n",
       "  'us',\n",
       "  'donald',\n",
       "  'one',\n",
       "  'people',\n",
       "  'fbi',\n",
       "  'president',\n",
       "  'clintons',\n",
       "  'new',\n",
       "  'like',\n",
       "  'obama',\n",
       "  'state',\n",
       "  'email',\n",
       "  'media',\n",
       "  'also',\n",
       "  'even',\n",
       "  'emails',\n",
       "  'news',\n",
       "  'trumps',\n",
       "  'presidential',\n",
       "  'could',\n",
       "  'white',\n",
       "  'vote',\n",
       "  'time',\n",
       "  'democratic',\n",
       "  'republican',\n",
       "  'investigation',\n",
       "  'political',\n",
       "  'going',\n",
       "  'american',\n",
       "  'states',\n",
       "  'get',\n",
       "  'voters',\n",
       "  'many',\n",
       "  'comey',\n",
       "  'house',\n",
       "  'know',\n",
       "  'first',\n",
       "  'day',\n",
       "  'dont',\n",
       "  'party',\n",
       "  'way',\n",
       "  'years',\n",
       "  'bill',\n",
       "  'america',\n",
       "  'democrats',\n",
       "  'october',\n",
       "  'candidate',\n",
       "  'republicans',\n",
       "  'podesta',\n",
       "  'see',\n",
       "  'country',\n",
       "  'women',\n",
       "  'think',\n",
       "  'former',\n",
       "  'back',\n",
       "  'percent',\n",
       "  'americans',\n",
       "  'last',\n",
       "  'foundation',\n",
       "  'government',\n",
       "  'two',\n",
       "  'national',\n",
       "  'right',\n",
       "  'united',\n",
       "  'may',\n",
       "  'force',\n",
       "  'support',\n",
       "  'next',\n",
       "  'public',\n",
       "  'say',\n",
       "  'make',\n",
       "  'department',\n",
       "  'november',\n",
       "  'much',\n",
       "  'well',\n",
       "  'told',\n",
       "  'according',\n",
       "  'fact',\n",
       "  'million',\n",
       "  'take',\n",
       "  'voting',\n",
       "  'director',\n",
       "  'world',\n",
       "  'never',\n",
       "  'made',\n",
       "  'since',\n",
       "  'another',\n",
       "  'go',\n",
       "  'wikileaks',\n",
       "  'nominee',\n",
       "  'information',\n",
       "  'every',\n",
       "  'justice']}"
      ]
     },
     "execution_count": 97,
     "metadata": {},
     "output_type": "execute_result"
    }
   ],
   "source": [
    "keywords"
   ]
  },
  {
   "cell_type": "code",
   "execution_count": 98,
   "id": "5eeb2934",
   "metadata": {},
   "outputs": [],
   "source": [
    "#here we are finding keyword that are uniques to each cluster\n",
    "set0 = set(keywords[0])\n",
    "set1 = set(keywords[1])\n",
    "unique0=set0-set1\n",
    "unique1 =set1-set0"
   ]
  },
  {
   "cell_type": "code",
   "execution_count": 99,
   "id": "f841e3b9",
   "metadata": {},
   "outputs": [],
   "source": [
    "unique_keys={}\n",
    "unique_keys[0]=nlargest(10, unique0, key=counts[0].get)\n",
    "unique_keys[1]=nlargest(10, unique1, key=counts[1].get)"
   ]
  },
  {
   "cell_type": "code",
   "execution_count": 100,
   "id": "1543db52",
   "metadata": {},
   "outputs": [
    {
     "data": {
      "text/plain": [
       "{0: ['police',\n",
       "  'der',\n",
       "  'author',\n",
       "  'life',\n",
       "  'men',\n",
       "  'man',\n",
       "  'good',\n",
       "  'want',\n",
       "  'food',\n",
       "  'die'],\n",
       " 1: ['clinton',\n",
       "  'hillary',\n",
       "  'election',\n",
       "  'campaign',\n",
       "  'donald',\n",
       "  'fbi',\n",
       "  'clintons',\n",
       "  'email',\n",
       "  'emails',\n",
       "  'trumps']}"
      ]
     },
     "execution_count": 100,
     "metadata": {},
     "output_type": "execute_result"
    }
   ],
   "source": [
    "unique_keys"
   ]
  },
  {
   "cell_type": "markdown",
   "id": "c77ad967",
   "metadata": {},
   "source": [
    "These are some of the words that are unique to each class. This gives us an idea about our news data.<br>\n",
    "\n",
    "### Modelling and Prediction"
   ]
  },
  {
   "cell_type": "code",
   "execution_count": 101,
   "id": "2f89a57b",
   "metadata": {},
   "outputs": [
    {
     "name": "stderr",
     "output_type": "stream",
     "text": [
      "C:\\ProgramData\\Anaconda3\\lib\\site-packages\\sklearn\\utils\\deprecation.py:87: FutureWarning: Function get_feature_names is deprecated; get_feature_names is deprecated in 1.0 and will be removed in 1.2. Please use get_feature_names_out instead.\n",
      "  warnings.warn(msg, category=FutureWarning)\n"
     ]
    }
   ],
   "source": [
    "#using the Vectorizer before doing the classification\n",
    "from sklearn.feature_extraction.text import TfidfVectorizer\n",
    "from sklearn.model_selection import train_test_split\n",
    "\n",
    "X_train,X_test,y_train,y_test=train_test_split(features,target,test_size=0.20)\n",
    "\n",
    "vectorizer = TfidfVectorizer(stop_words = 'english')\n",
    "tfidf_train = vectorizer.fit_transform(X_train)\n",
    "tfidf_test = vectorizer.transform(X_test)\n",
    "tfidf_df = pd.DataFrame(tfidf_train.A, columns=vectorizer.get_feature_names())"
   ]
  },
  {
   "cell_type": "code",
   "execution_count": 102,
   "id": "dd38b2a9",
   "metadata": {},
   "outputs": [
    {
     "name": "stdout",
     "output_type": "stream",
     "text": [
      "(1632, 41826)\n",
      "(1632,)\n"
     ]
    }
   ],
   "source": [
    "print(tfidf_train.shape)\n",
    "print(y_train.shape)"
   ]
  },
  {
   "cell_type": "markdown",
   "id": "f680d7e6",
   "metadata": {},
   "source": [
    "### Kneighbors classification:\n",
    "#### kneighbors is a type of instance-based learning algorithm.\n",
    "#### In this the given data points are identified and the classification is based on the class labels of the k neibhors.\n",
    "#### The value of K can be choosen manually or by using cross-validation to find the optimal value "
   ]
  },
  {
   "cell_type": "code",
   "execution_count": 103,
   "id": "7d2002df",
   "metadata": {},
   "outputs": [
    {
     "name": "stdout",
     "output_type": "stream",
     "text": [
      "Kneighbors Model accuracy: 0.7181\n"
     ]
    }
   ],
   "source": [
    "#Kneighbors Classification\n",
    "from sklearn.neighbors import KNeighborsClassifier\n",
    "from sklearn import metrics\n",
    "\n",
    "KNb = KNeighborsClassifier(n_neighbors=5)\n",
    "KNb.fit(tfidf_train, y_train)\n",
    "y_pred = KNb.predict(tfidf_test)\n",
    "KNscore=metrics.accuracy_score(y_test,y_pred)\n",
    "print(\"Kneighbors Model accuracy: %0.4f\" %KNscore)"
   ]
  },
  {
   "cell_type": "markdown",
   "id": "0b7b4bb8",
   "metadata": {},
   "source": [
    "### Random Forest Classification:\n",
    "#### It is a type of esemble-based learning algorithm.\n",
    "#### In this algorithm it creates multiple decision trees and combines them to produce a more accurate classification.\n",
    "#### The final classification is determined by taking a majority vote of the classification predicted by all the trees in the forest."
   ]
  },
  {
   "cell_type": "code",
   "execution_count": 104,
   "id": "551567eb",
   "metadata": {},
   "outputs": [
    {
     "name": "stdout",
     "output_type": "stream",
     "text": [
      "Random Forest Model accuracy:  0.9387\n"
     ]
    }
   ],
   "source": [
    "#Random Forest Classification\n",
    "from sklearn.ensemble import RandomForestClassifier\n",
    "\n",
    "RF = RandomForestClassifier(n_estimators=1000)\n",
    "RF.fit(tfidf_train,y_train)\n",
    "y_pred = RF.predict(tfidf_test)\n",
    "RFscore = metrics.accuracy_score(y_test,y_pred)\n",
    "print(\"Random Forest Model accuracy:  %0.4f\" %RFscore)"
   ]
  },
  {
   "cell_type": "markdown",
   "id": "8116a973",
   "metadata": {},
   "source": [
    "### Adaboost Classification:\n",
    "#### It is also another esemble-based algorithm.\n",
    "#### This algoriyhm combines multiple weak classifiers to produce a strong classifier\n",
    "#### The final classification is determined by weighted combination of the classification predicted by all weak classifiers."
   ]
  },
  {
   "cell_type": "code",
   "execution_count": 105,
   "id": "ceee497a",
   "metadata": {},
   "outputs": [
    {
     "name": "stdout",
     "output_type": "stream",
     "text": [
      "Ada boost Classifier accuracy: 0.9828\n"
     ]
    }
   ],
   "source": [
    "#Adaboost Classification\n",
    "from sklearn.ensemble import AdaBoostClassifier\n",
    "from sklearn.tree import DecisionTreeClassifier\n",
    "\n",
    "Adab = AdaBoostClassifier(DecisionTreeClassifier(max_depth=10),n_estimators=5)\n",
    "Adab.fit(tfidf_train, y_train)\n",
    "y_pred = Adab.predict(tfidf_test)\n",
    "ABscore = metrics.accuracy_score(y_test,y_pred)\n",
    "print(\"Ada boost Classifier accuracy: %0.4f\" %ABscore)"
   ]
  },
  {
   "cell_type": "markdown",
   "id": "64a3f913",
   "metadata": {},
   "source": [
    "Among all the classifications, Adaboost is performing the best. We will choose AdaBoost Model.<br>\n",
    "\n",
    "### Result"
   ]
  },
  {
   "cell_type": "markdown",
   "id": "bc8bb4b3",
   "metadata": {},
   "source": [
    "### Confusion Matrix:\n",
    "#### A confusion matrix is a table used to evaluate the performance of a classification model on a set of text data where the true values are known .It is also known as error matrix.\n",
    "#### The matrix compares the pedicted values of the model with the acutal or true values.\n",
    "#### It also counts tje number of correct and incorrect predictions."
   ]
  },
  {
   "cell_type": "code",
   "execution_count": 106,
   "id": "39bdad31",
   "metadata": {},
   "outputs": [
    {
     "name": "stdout",
     "output_type": "stream",
     "text": [
      "[[252   6]\n",
      " [  1 149]]\n"
     ]
    }
   ],
   "source": [
    "#creating a confusion matrix\n",
    "from sklearn.metrics import confusion_matrix\n",
    "conf_matrix = confusion_matrix(y_test, y_pred)\n",
    "print(conf_matrix)"
   ]
  },
  {
   "cell_type": "code",
   "execution_count": 107,
   "id": "dfd9b0af",
   "metadata": {},
   "outputs": [
    {
     "data": {
      "text/plain": [
       "<AxesSubplot:xlabel='Predicted', ylabel='Actual'>"
      ]
     },
     "execution_count": 107,
     "metadata": {},
     "output_type": "execute_result"
    },
    {
     "data": {
      "image/png": "[encoded data removed]",
      "text/plain": [
       "<Figure size 360x360 with 1 Axes>"
      ]
     },
     "metadata": {},
     "output_type": "display_data"
    }
   ],
   "source": [
    "#creating a matrix using seaborn\n",
    "import seaborn as sns\n",
    "\n",
    "cm_df = pd.DataFrame(conf_matrix, columns=np.unique(y_test), index = np.unique(y_test))\n",
    "cm_df.columns.name = 'Predicted'\n",
    "cm_df.index.name = 'Actual'\n",
    "cm_df\n",
    "plt.figure(figsize=(5,5))\n",
    "sns.heatmap(cm_df, annot=True, vmax=20, square=True, cmap=\"summer\",annot_kws={\"size\":12} ,cbar=False, fmt='g')"
   ]
  },
  {
   "cell_type": "markdown",
   "id": "6c7f22be",
   "metadata": {},
   "source": [
    "As we can see in the Confusion matrix, we have 252 records correctly predicted Fake and 149 records correctly predicted as Real.<br> 1 Fake news were predicted as Real and 6 Real news were predicted as Fake.\n",
    "\n",
    "### Conclusion\n",
    " We have successfully build a model to classify news as Fake or Real. Adaboost Classfier gave us an accuracy upto 99% which is really great. This Model can be used best for political news as most of our training records contain political news. The same model can be further extended for all news types with a larger and more diverse dataset.\n",
    "\n"
   ]
  },
  {
   "cell_type": "code",
   "execution_count": null,
   "id": "6c70a5c9",
   "metadata": {},
   "outputs": [],
   "source": []
  }
 ],
 "metadata": {
  "kernelspec": {
   "display_name": "Python 3 (ipykernel)",
   "language": "python",
   "name": "python3"
  },
  "language_info": {
   "codemirror_mode": {
    "name": "ipython",
    "version": 3
   },
   "file_extension": ".py",
   "mimetype": "text/x-python",
   "name": "python",
   "nbconvert_exporter": "python",
   "pygments_lexer": "ipython3",
   "version": "3.9.12"
  }
 },
 "nbformat": 4,
 "nbformat_minor": 5
}
